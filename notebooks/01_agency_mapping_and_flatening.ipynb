{
 "cells": [
  {
   "cell_type": "markdown",
   "id": "b62c6c9c-565f-4260-a397-cf1b996ae9d6",
   "metadata": {},
   "source": [
    "### 🐶 Load & Inspect Agency Mapping for D.O.G.E.\n",
    "\n",
    "> The agency-to-regulation mapping is retrieved from the [agencies.json](https://www.ecfr.gov/developers/documentation/api/v1) endpoint of the Electronic Code of Federal Regulations (eCFR).\n",
    "\n",
    "> While no explicit timestamp is provided in the API response, the data structure appears to reflect 2024 mappings, according to [DOGE's regulations sources](https://doge.gov/regulations).\n",
    "\n",
    "> This mapping includes all top-level agencies (sorted by name), along with their respective child agencies, and serves as the foundation for linking CFR titles, chapters, and parts to their governing authorities.\n"
   ]
  },
  {
   "cell_type": "markdown",
   "id": "a83ef19e-3bb7-4e82-b304-0902cb55eaa1",
   "metadata": {},
   "source": [
    "### 🔎 Inspect API Output via CLI\n",
    "\n",
    "> For a quick command-line inspection of the eCFR `agencies.json` response:  \n",
    "\n",
    "> ```bash\n",
    "> curl -X GET \"https://www.ecfr.gov/api/admin/v1/agencies.json\" -H \"accept: application/json\" | jq .\n",
    "> ```  \n",
    "\n",
    "> This fetches the agency mapping JSON directly and pretty-prints it using `jq`.  \n",
    "> Grep for keywords, detect patterns, or understand the structure before processing it in Python.\n"
   ]
  },
  {
   "cell_type": "markdown",
   "id": "235c4daf-3893-49cf-9c88-3b1a0d2878cc",
   "metadata": {},
   "source": [
    "```json\n",
    "{\n",
    "  \"agencies\": [\n",
    "    {\n",
    "      \"name\": \"Department of Agriculture\",\n",
    "      \"slug\": \"agriculture-department\",\n",
    "      \"children\": [\n",
    "        {\n",
    "          \"name\": \"Agricultural Marketing Service\",\n",
    "          \"slug\": \"agricultural-marketing-service\",\n",
    "          \"cfr_references\": [\n",
    "            {\n",
    "              \"title\": 7,\n",
    "              \"chapter\": \"I\"\n",
    "            },\n",
    "            ...  // child cfr_references\n",
    "          ]     \n",
    "        },      \n",
    "        ...     // siblings\n",
    "      ],\n",
    "      \"cfr_references\": [\n",
    "        {\n",
    "          \"title\": 2,\n",
    "          \"chapter\": \"IV\"\n",
    "        },\n",
    "        {\n",
    "          \"title\": 5,\n",
    "          \"chapter\": \"LXXIII\"\n",
    "        },\n",
    "        ...   // parent cfr_references\n",
    "      ]\n",
    "    },\n",
    "    ...   // agencies\n",
    "  ]\n",
    "}\n",
    "```"
   ]
  },
  {
   "cell_type": "markdown",
   "id": "b7e60602-f4f2-42b7-9f9a-d8051b025fbf",
   "metadata": {},
   "source": [
    "#### API Structure Observations & Analysis\n",
    "> The root key is `agencies`, a list of agency dictionaries.\n",
    "\n",
    "> Each agency contains:\n",
    "> - Metadata (`name`, `short_name`, `slug`, etc.)\n",
    "> - A `cfr_references` list — the **critical key** used to extract regulation text based on fields like `title`, `chapter`, `part`, etc.\n",
    "> - An optional `children` list — each child is structured like the parent but **does not include further children**\n",
    "> \n",
    "> Nested hierarchy to process:\n",
    "> `agencies` → `children` (if any) → `cfr_references`\n",
    "\n",
    "> 🔥🔥 This structure must be unraveled to create a flat, downstream dataset for regulation text retrieval and word count analysis  \n"
   ]
  },
  {
   "cell_type": "code",
   "execution_count": 5,
   "id": "a8633fc4-2231-4ab6-a829-cf9b3db6489f",
   "metadata": {},
   "outputs": [
    {
     "name": "stdout",
     "output_type": "stream",
     "text": [
      "Saved snapshot to {filename}\n"
     ]
    }
   ],
   "source": [
    "from datetime import datetime\n",
    "import requests\n",
    "import json\n",
    "import os\n",
    "\n",
    "# API endpoint for agency metadata  \n",
    "url = \"https://www.ecfr.gov/api/admin/v1/agencies.json\"\n",
    "response = requests.get(url)   # HTTP 200 = success; 404 = invalid input\n",
    "#print(response)\n",
    "data = response.json()\n",
    "# Pretty print the JSON\n",
    "#print(json.dumps(data, indent=2))\n",
    "\n",
    "# Format today's date\n",
    "today_str = datetime.today().strftime(\"%Y-%m-%d\")\n",
    "\n",
    "# Define archive directory and ensure it exists\n",
    "archive_dir = \"../archive\"\n",
    "os.makedirs(archive_dir, exist_ok=True)\n",
    "\n",
    "# Define full path with date-stamped filename\n",
    "filename = os.path.join(archive_dir, f\"agencies_snapshot_{today_str}.json\")\n",
    "\n",
    "# Save to file\n",
    "with open(filename, \"w\") as f:\n",
    "    json.dump(data, f, indent=2)\n",
    "print(\"Saved snapshot of agency json to {filename}\")"
   ]
  },
  {
   "cell_type": "markdown",
   "id": "a1e49073-a92f-4743-a859-c6afe4c8e7e6",
   "metadata": {},
   "source": [
    "Next Steps:\n",
    "\n",
    "- Data pipeline\n",
    "- Ingest Data and Flatten data structure (group the children references into the parent references)\n",
    "- Load into data frame"
   ]
  },
  {
   "cell_type": "code",
   "execution_count": 33,
   "id": "b5089e24-fa5d-440d-ae3d-27e290ff8f13",
   "metadata": {},
   "outputs": [],
   "source": [
    "# Parse a json file, grab specific fields, one field has nested info to extract and group to the parent\n",
    "\n",
    "flattened_row = []\n",
    "#data = response.json()\n",
    "#print(data)\n",
    "#print(data['agencies'])\n"
   ]
  },
  {
   "cell_type": "code",
   "execution_count": 35,
   "id": "3e77a320-8897-41ec-9a7a-ec1190b23808",
   "metadata": {},
   "outputs": [],
   "source": [
    "import pandas as pd\n",
    "\n",
    "# Parse JSON\n",
    "for agency in data['agencies']:\n",
    "    #print(agency)\n",
    "    parent_name       = agency.get('name')\n",
    "    parent_short_name = agency.get('short_name')\n",
    "    parent_slug       = agency.get('slug')\n",
    "\n",
    "    # row \n",
    "    flattened_row.append({'name':parent_name, 'short_name':parent_short_name})\n",
    "\n",
    "#for i in range(0, len(flattened_row)):\n",
    "    #print(flattened_row[i])\n",
    "\n",
    "#df = pd.json_normalize(data)\n",
    "#df = pd.DataFrame(data)\n",
    "#df.head(10)\n",
    "# Save output to CSV\n",
    "\n",
    "#extract short_name, display_name, slug, children, cfr_references, title, subtitle, chapter, subchapter, part, etc.\n"
   ]
  },
  {
   "cell_type": "markdown",
   "id": "1ce91b28-72ff-4002-9746-c675f39de717",
   "metadata": {},
   "source": [
    "Next Step:\n",
    "- Download the data from [here](https://www.govinfo.gov/bulkdata/CFR)"
   ]
  }
 ],
 "metadata": {
  "kernelspec": {
   "display_name": "Python 3 (ipykernel)",
   "language": "python",
   "name": "python3"
  },
  "language_info": {
   "codemirror_mode": {
    "name": "ipython",
    "version": 3
   },
   "file_extension": ".py",
   "mimetype": "text/x-python",
   "name": "python",
   "nbconvert_exporter": "python",
   "pygments_lexer": "ipython3",
   "version": "3.10.13"
  }
 },
 "nbformat": 4,
 "nbformat_minor": 5
}
