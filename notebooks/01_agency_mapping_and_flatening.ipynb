{
 "cells": [
  {
   "cell_type": "markdown",
   "id": "b62c6c9c-565f-4260-a397-cf1b996ae9d6",
   "metadata": {},
   "source": [
    "### 🐶 Load & Inspect Agency Mapping for D.O.G.E.\n",
    "\n",
    "> The agency-to-regulation mapping is retrieved from the [agencies.json](https://www.ecfr.gov/developers/documentation/api/v1) endpoint of the Electronic Code of Federal Regulations (eCFR).\n",
    "\n",
    "> While no explicit timestamp is provided in the API response, the data structure appears to reflect 2024 mappings, according to [DOGE's regulations sources](https://doge.gov/regulations).\n",
    "\n",
    "> This mapping includes all top-level agencies (sorted by name), along with their respective child agencies, and serves as the foundation for linking CFR titles, chapters, and parts to their governing authorities.\n"
   ]
  },
  {
   "cell_type": "markdown",
   "id": "a83ef19e-3bb7-4e82-b304-0902cb55eaa1",
   "metadata": {},
   "source": [
    "### 🔎 Inspect API Output via CLI\n",
    "\n",
    "> For a quick command-line inspection of the eCFR `agencies.json` response:  \n",
    "\n",
    "> ```bash\n",
    "> curl -X GET \"https://www.ecfr.gov/api/admin/v1/agencies.json\" -H \"accept: application/json\" | jq .\n",
    "> ```  \n",
    "\n",
    "> This fetches the agency mapping JSON directly and pretty-prints it using `jq`.  \n",
    "> Grep for keywords, detect patterns, or understand the structure before processing it in Python.\n"
   ]
  },
  {
   "cell_type": "markdown",
   "id": "235c4daf-3893-49cf-9c88-3b1a0d2878cc",
   "metadata": {},
   "source": [
    "```json\n",
    "{\n",
    "  \"agencies\": [\n",
    "    {\n",
    "      \"name\": \"Department of Agriculture\",\n",
    "      \"slug\": \"agriculture-department\",\n",
    "      \"children\": [\n",
    "        {\n",
    "          \"name\": \"Agricultural Marketing Service\",\n",
    "          \"slug\": \"agricultural-marketing-service\",\n",
    "          \"cfr_references\": [\n",
    "            {\n",
    "              \"title\": 7,\n",
    "              \"chapter\": \"I\"\n",
    "            },\n",
    "            ...  // child cfr_references\n",
    "          ]     \n",
    "        },      \n",
    "        ...     // siblings\n",
    "      ],\n",
    "      \"cfr_references\": [\n",
    "        {\n",
    "          \"title\": 2,\n",
    "          \"chapter\": \"IV\"\n",
    "        },\n",
    "        {\n",
    "          \"title\": 5,\n",
    "          \"chapter\": \"LXXIII\"\n",
    "        },\n",
    "        ...   // parent cfr_references\n",
    "      ]\n",
    "    },\n",
    "    ...   // agencies\n",
    "  ]\n",
    "}\n",
    "```"
   ]
  },
  {
   "cell_type": "markdown",
   "id": "b7e60602-f4f2-42b7-9f9a-d8051b025fbf",
   "metadata": {},
   "source": [
    "#### API Structure Overview\n",
    "\n",
    "> The root key is `agencies`, a list of agency dictionaries. Each agency has:\n",
    "> - Metadata (`name`, `slug`, etc.)  \n",
    "> - `cfr_references` → used to extract regulation text  \n",
    "> - Optional `children` → same structure, no nested children\n",
    "\n",
    "> Nested hierarchy to process:  \n",
    "> `agencies` → `children` (if any) → `cfr_references`  \n",
    "\n",
    "> 🔥🔥 Flattening `agencies` + `children` + their `cfr_references` builds the dataset for downstream analysis.\n"
   ]
  },
  {
   "cell_type": "code",
   "execution_count": 14,
   "id": "a8633fc4-2231-4ab6-a829-cf9b3db6489f",
   "metadata": {},
   "outputs": [
    {
     "name": "stdout",
     "output_type": "stream",
     "text": [
      "Saved snapshot of agency json to ../archive/agencies_snapshot_2025-04-05.json\n"
     ]
    }
   ],
   "source": [
    "from datetime import datetime\n",
    "import requests\n",
    "import json\n",
    "import os\n",
    "\n",
    "# API endpoint for agency metadata  \n",
    "url = \"https://www.ecfr.gov/api/admin/v1/agencies.json\"\n",
    "response = requests.get(url)   # HTTP 200 = success; 404 = invalid input\n",
    "#print(response)\n",
    "data = response.json()\n",
    "# Pretty print the JSON\n",
    "#print(json.dumps(data, indent=2))\n",
    "\n",
    "# Format today's date\n",
    "today_str = datetime.today().strftime(\"%Y-%m-%d\")\n",
    "\n",
    "# Define archive directory and ensure it exists\n",
    "archive_dir = \"../archive\"\n",
    "os.makedirs(archive_dir, exist_ok=True)\n",
    "\n",
    "# Define full path with date-stamped filename\n",
    "filename = os.path.join(archive_dir, f\"agencies_snapshot_{today_str}.json\")\n",
    "\n",
    "# Save to file\n",
    "#with open(filename, \"w\") as f:\n",
    "#    json.dump(data, f, indent=2)\n",
    "print(f\"Saved snapshot of agency json to {filename}\")"
   ]
  },
  {
   "cell_type": "markdown",
   "id": "a1e49073-a92f-4743-a859-c6afe4c8e7e6",
   "metadata": {},
   "source": [
    "Next Steps:\n",
    "\n",
    "- Data pipeline\n",
    "- Ingest Data and Flatten data structure (group the children references into the parent references)\n",
    "- Load into data frame"
   ]
  },
  {
   "cell_type": "code",
   "execution_count": 39,
   "id": "b5089e24-fa5d-440d-ae3d-27e290ff8f13",
   "metadata": {},
   "outputs": [],
   "source": [
    "flattened_rows = []\n",
    "#print(data)\n",
    "#print(data['agencies'])\n",
    "\n",
    "for agency in data['agencies']:\n",
    "    parent_name = agency.get('name') # key:value\n",
    "    #print(\"parent_name=\", parent_name)\n",
    "    short_name  = agency.get('short_name')\n",
    "    slug_name   = agency.get('slug')\n",
    "    children    = agency.get('children')\n",
    "\n",
    "    # Try to get 'cfr_references' and 'children' from the agency dictionary\n",
    "    # If it's missing or None, assign an empty list to avoid iteration errors\n",
    "    parent_cfr_refs = agency.get('cfr_references', [])\n",
    "    children        = agency.get('children', [])\n",
    "\n",
    "    # Loop over parent CFR refs, safe to iterate because it's a guaranteed list\n",
    "    for ref in parent_cfr_refs:\n",
    "        #print(\"..cfr_references title=\", ref.get('title'), \" chapter=\", ref.get('chapter'))\n",
    "        flattened_rows.append({\"name\": parent_name, \n",
    "                              \"short_name\": short_name, \n",
    "                              \"slug\": slug_name,\n",
    "                              \"title\": ref.get('title'),\n",
    "                              \"subtitle\": ref.get('subtitle'),\n",
    "                              \"chapter\": ref.get('chapter'),\n",
    "                              \"subchapter\": ref.get('subchapter'),\n",
    "                              \"part\": ref.get(\"part\")\n",
    "                             })\n",
    "\n",
    "    # Loop over children CFR refs\n",
    "    for child in children:\n",
    "        # child_name = child.get('name')\n",
    "        for ref in child.get('cfr_references', []):\n",
    "            flattened_rows.append({\"name\": parent_name, \n",
    "                                  \"short_name\": short_name, \n",
    "                                  \"slug\": slug_name,\n",
    "                                  \"title\": ref.get('title'),\n",
    "                                  \"subtitle\": ref.get('subtitle'),\n",
    "                                  \"chapter\": ref.get('chapter'),\n",
    "                                  \"subchapter\": ref.get('subchapter'),\n",
    "                                  \"part\": ref.get(\"part\")\n",
    "                                 })\n"
   ]
  },
  {
   "cell_type": "code",
   "execution_count": 44,
   "id": "070f6fae-3124-4046-8aeb-2d6495fbcbaf",
   "metadata": {},
   "outputs": [
    {
     "name": "stdout",
     "output_type": "stream",
     "text": [
      "Saved data frame to ../archive/flattened_agencies_list_2025-04-06.csv\n"
     ]
    }
   ],
   "source": [
    "import pandas as pd\n",
    "\n",
    "agencies_df = pd.DataFrame(flattened_rows)\n",
    "\n",
    "# Preview the result\n",
    "#agencies_df.head(len(agencies_df))\n",
    "#print(f\"Total CFR references across all agencies and children: {len(agencies_df)}\")\n",
    "\n",
    "# Format today's date\n",
    "today_str = datetime.today().strftime(\"%Y-%m-%d\")\n",
    "\n",
    "# Define archive directory and ensure it exists\n",
    "archive_dir = \"../archive\"\n",
    "os.makedirs(archive_dir, exist_ok=True)\n",
    "\n",
    "# Define full path with date-stamped filename\n",
    "filename = os.path.join(archive_dir, f\"flattened_agencies_list_{today_str}.csv\")\n",
    "\n",
    "# Save data frame to a csv file\n",
    "agencies_df.to_csv(filename, index=False)\n",
    "print(f\"Saved data frame to {filename}\")\n"
   ]
  },
  {
   "cell_type": "code",
   "execution_count": null,
   "id": "bed110ff-a403-4be2-a831-e5309c10c02a",
   "metadata": {},
   "outputs": [],
   "source": []
  }
 ],
 "metadata": {
  "kernelspec": {
   "display_name": "Python 3 (ipykernel)",
   "language": "python",
   "name": "python3"
  },
  "language_info": {
   "codemirror_mode": {
    "name": "ipython",
    "version": 3
   },
   "file_extension": ".py",
   "mimetype": "text/x-python",
   "name": "python",
   "nbconvert_exporter": "python",
   "pygments_lexer": "ipython3",
   "version": "3.10.13"
  }
 },
 "nbformat": 4,
 "nbformat_minor": 5
}
