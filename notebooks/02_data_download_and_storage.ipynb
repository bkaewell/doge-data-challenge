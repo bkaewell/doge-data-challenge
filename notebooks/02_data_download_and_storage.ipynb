{
 "cells": [
  {
   "cell_type": "markdown",
   "id": "b59817ea-1a0c-4f78-bda4-b5c329d55fdf",
   "metadata": {},
   "source": [
    "Next Step:\n",
    "- Download the data from [here](https://www.govinfo.gov/bulkdata/CFR)\n",
    "\n",
    "- ⬇️ Downloads XML data files per agency reference (full titles or chapters), and stores raw regulation text"
   ]
  },
  {
   "cell_type": "code",
   "execution_count": null,
   "id": "ce39e6cb-a836-40e7-b2e4-463073c9e228",
   "metadata": {},
   "outputs": [],
   "source": [
    "# Print config for verification\n",
    "#print(f\"Snapshot Date: {snapshot_date}\")\n",
    "\n",
    "########### for 02 notebook.......\n",
    "# Access paths and config\n",
    "# regulation_text_path = paths[\"REGULATION_TEXT_PATH\"]  # i.e. ~/repo/doge-data-challenge/regulation_text/{SNAPSHOT_DATE}\n",
    "\n",
    "################# for 02 or 03 or 04 notebooks.......\n",
    "# Print config for verification\n",
    "# print(f\"Regulation Text Path: {shorten_path(regulation_text_path)}\")\n",
    "# print(f\"Word Count Method: {config['WORDCOUNT_METHOD']}\")\n"
   ]
  },
  {
   "cell_type": "code",
   "execution_count": 67,
   "id": "7b207573-9219-4247-b380-b5ce4af32c32",
   "metadata": {},
   "outputs": [
    {
     "name": "stdout",
     "output_type": "stream",
     "text": [
      "~/repo/doge-data-challenge/archive\n",
      "~/repo/doge-data-challenge/data/regulations_xml/2025-03-27\n",
      "~/repo/doge-data-challenge/archive/flattened_agencies_list_2025-03-27.csv\n"
     ]
    }
   ],
   "source": [
    "import sys\n",
    "sys.path.append(\"..\")  # So notebooks/utils is importable from inside notebooks/\n",
    "\n",
    "from utils.print_helpers import shorten_path\n",
    "from pathlib import Path\n",
    "\n",
    "# Snapshot date (can be reused across all notebooks)\n",
    "SNAPSHOT_DATE = \"2025-03-27\"\n",
    "\n",
    "# Go up one level from the notebook directory to reach project root\n",
    "PROJECT_ROOT = Path.cwd().resolve().parent\n",
    "\n",
    "# Key directories relative to project root\n",
    "ARCHIVE_DIR = PROJECT_ROOT / \"archive\"\n",
    "XML_DIR = PROJECT_ROOT / \"data\" / \"regulations_xml\" / SNAPSHOT_DATE\n",
    "CSV_PATH = ARCHIVE_DIR / f\"flattened_agencies_list_{SNAPSHOT_DATE}.csv\"\n",
    "\n",
    "\n",
    "# Build relative directories\n",
    "#DATA_DIR = PROJECT_ROOT / \"data\" / \"regulations_xml\" / snapshot_date\n",
    "#CSV_PATH = PROJECT_ROOT / \"archive\" / f\"flattened_agencies_list_{snapshot_date}.csv\"\n",
    "\n",
    "#########################################################\n",
    "# Load the flattened agency list generated in notebook 01\n",
    "#########################################################\n",
    "# csv_path = \"../archive/flattened_agencies_list_2025-04-06.csv\"\n",
    "\n",
    "print(shorten_path(ARCHIVE_DIR))\n",
    "print(shorten_path(XML_DIR))\n",
    "print(shorten_path(CSV_PATH))\n",
    "\n",
    "# should the snapshot date be incorporated into the flattened_agencies_list_<date>.CSV file?? I think that makes sense\n",
    "# define important top level variables"
   ]
  },
  {
   "cell_type": "code",
   "execution_count": 68,
   "id": "bbaf41d9-d247-49c7-80cf-348b124b656a",
   "metadata": {},
   "outputs": [
    {
     "name": "stdout",
     "output_type": "stream",
     "text": [
      "✅ Loaded 487 rows from ~/repo/doge-data-challenge/archive/flattened_agencies_list_2025-03-27.csv\n"
     ]
    }
   ],
   "source": [
    "\n",
    "\n",
    "import pandas as pd\n",
    "import os\n",
    "\n",
    "if os.path.exists(CSV_PATH):\n",
    "    agencies_df = pd.read_csv(CSV_PATH)\n",
    "    print(f\"✅ Loaded {len(agencies_df)} rows from {shorten_path(CSV_PATH)}\")\n",
    "else:\n",
    "    raise FileNotFoundError(f\"❌ Could not find {shorten_path(CSV_PATH)}\")"
   ]
  },
  {
   "cell_type": "code",
   "execution_count": null,
   "id": "18e93657-0615-40d5-82a8-ff02a4362f26",
   "metadata": {},
   "outputs": [],
   "source": [
    "import requests\n",
    "import time\n",
    "\n",
    "xml_dir = os.path.join(\"data\", \"regulations_xml\", snapshot_date)\n",
    "os.makedirs(xml_dir, exist_ok=True)\n",
    "\n",
    "titles = sorted(agencies_df[\"title\"].dropna().unique())\n",
    "\n",
    "print(f\"\\n🚀 Downloading {len(titles)} unique title XML files to: {xml_dir}\\n\")\n",
    "\n",
    "total_start = time.time()\n",
    "\n",
    "for title in titles:\n",
    "    title = int(title)\n",
    "    url = f\"https://www.ecfr.gov/api/versioner/v1/full/{snapshot_date}/title-{title}.xml\"\n",
    "    filename = f\"title_{title}.xml\"\n",
    "    save_path = os.path.join(xml_dir, filename)\n",
    "\n",
    "    if os.path.exists(save_path):\n",
    "        print(f\"🟡 Skipping cached: {filename}\")\n",
    "        continue\n",
    "\n",
    "    try:\n",
    "        start = time.time()\n",
    "        response = requests.get(url, timeout=(10, 60))\n",
    "        elapsed = time.time() - start\n",
    "\n",
    "        if response.status_code == 200:\n",
    "            with open(save_path, \"wb\") as f:\n",
    "                f.write(response.content)\n",
    "            print(f\"✅ Downloaded: {filename} ({elapsed:.2f}s)\")\n",
    "        else:\n",
    "            print(f\"⚠️ Failed to download {filename} (status {response.status_code})\")\n",
    "\n",
    "    except requests.RequestException as e:\n",
    "        print(f\"❌ Error downloading {filename} → {e}\")\n",
    "\n",
    "total_elapsed = time.time() - total_start\n",
    "print(f\"\\n⏱️ Total elapsed time: {total_elapsed:.2f} seconds\")"
   ]
  }
 ],
 "metadata": {
  "kernelspec": {
   "display_name": "Python 3 (ipykernel)",
   "language": "python",
   "name": "python3"
  },
  "language_info": {
   "codemirror_mode": {
    "name": "ipython",
    "version": 3
   },
   "file_extension": ".py",
   "mimetype": "text/x-python",
   "name": "python",
   "nbconvert_exporter": "python",
   "pygments_lexer": "ipython3",
   "version": "3.10.13"
  }
 },
 "nbformat": 4,
 "nbformat_minor": 5
}
