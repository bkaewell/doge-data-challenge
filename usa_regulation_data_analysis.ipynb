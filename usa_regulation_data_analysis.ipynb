{
 "cells": [
  {
   "cell_type": "markdown",
   "id": "b62c6c9c-565f-4260-a397-cf1b996ae9d6",
   "metadata": {},
   "source": [
    "### 🐶 Load & Inspect Agency Mapping for D.O.G.E.\n",
    "\n",
    "> The agency-to-regulation mapping is retrieved from the [agencies.json](https://www.ecfr.gov/developers/documentation/api/v1) endpoint of the Electronic Code of Federal Regulations (eCFR).\n",
    "\n",
    "> While no explicit timestamp is provided in the API response, the data structure appears to reflect 2024 mappings, according to [DOGE's regulations sources](https://doge.gov/regulations).\n",
    "\n",
    "> This mapping includes all top-level agencies (sorted by name), along with their respective child agencies, and serves as the foundation for linking CFR titles, chapters, and parts to their governing authorities.\n"
   ]
  },
  {
   "cell_type": "markdown",
   "id": "b7e60602-f4f2-42b7-9f9a-d8051b025fbf",
   "metadata": {},
   "source": [
    "### 🔎 Inspect API Output via CLI (Optional)\n",
    "\n",
    "> For a quick command-line inspection of the eCFR `agencies.json` response:  \n",
    "\n",
    "> ```bash\n",
    "> curl -X GET \"https://www.ecfr.gov/api/admin/v1/agencies.json\" -H \"accept: application/json\" | jq .\n",
    "> ```  \n",
    "\n",
    "> This fetches the agency mapping JSON directly and pretty-prints it using `jq`.  \n",
    "> Grep for keywords, detect patterns, or understand the structure before processing it in Python.\n"
   ]
  },
  {
   "cell_type": "code",
   "execution_count": 11,
   "id": "a8633fc4-2231-4ab6-a829-cf9b3db6489f",
   "metadata": {},
   "outputs": [
    {
     "name": "stdout",
     "output_type": "stream",
     "text": [
      "{\n",
      "  \"agencies\": [\n",
      "    {\n",
      "      \"name\": \"Administrative Conference of the United States\",\n",
      "      \"short_name\": \"ACUS\",\n",
      "      \"display_name\": \"Administrative Conference of the United States\",\n",
      "      \"sortable_name\": \"Administrative Conference of the United States\",\n",
      "      \"slug\": \"administrative-conference-of-the-united-states\",\n",
      "      \"children\": [],\n",
      "      \"cfr_references\": [\n",
      "        {\n",
      "          \"title\": 1,\n",
      "          \"chapter\": \"III\"\n",
      "        }\n",
      "      ]\n",
      "    },\n",
      "    {\n",
      "      \"name\": \"Advisory Council on Historic Preservation\",\n",
      "      \"short_name\": \"ACHP\",\n",
      "      \"display_name\": \"Advisory Council on Historic Preservation\",\n",
      "\n",
      "\n",
      "... [truncated for Git preview] ...\n",
      "\n",
      "\n"
     ]
    }
   ],
   "source": [
    "import requests\n",
    "import json\n",
    "\n",
    "# API endpoint for agency metadata  \n",
    "url = \"https://www.ecfr.gov/api/admin/v1/agencies.json\"\n",
    "response = requests.get(url)   # HTTP 200 = success; 404 = invalid input\n",
    "#print(response)\n",
    "data = response.json()\n",
    "# Pretty print the JSON\n",
    "print(json.dumps(data, indent=2))\n"
   ]
  },
  {
   "cell_type": "markdown",
   "id": "a1e49073-a92f-4743-a859-c6afe4c8e7e6",
   "metadata": {},
   "source": [
    "Next Steps:\n",
    "\n",
    "- Data pipeline\n",
    "- Ingest Data and Flatten data structure (group the children references into the parent references)\n",
    "- Load into data frame"
   ]
  },
  {
   "cell_type": "code",
   "execution_count": 12,
   "id": "3e77a320-8897-41ec-9a7a-ec1190b23808",
   "metadata": {},
   "outputs": [],
   "source": [
    "import pandas as pd"
   ]
  },
  {
   "cell_type": "markdown",
   "id": "1ce91b28-72ff-4002-9746-c675f39de717",
   "metadata": {},
   "source": [
    "Next Step:\n",
    "- Download the data from [here](https://www.govinfo.gov/bulkdata/CFR)"
   ]
  },
  {
   "cell_type": "code",
   "execution_count": null,
   "id": "53b9ab5f-1ee4-4e74-ad6a-ac35a42b75e9",
   "metadata": {},
   "outputs": [],
   "source": []
  }
 ],
 "metadata": {
  "kernelspec": {
   "display_name": "Python 3 (ipykernel)",
   "language": "python",
   "name": "python3"
  },
  "language_info": {
   "codemirror_mode": {
    "name": "ipython",
    "version": 3
   },
   "file_extension": ".py",
   "mimetype": "text/x-python",
   "name": "python",
   "nbconvert_exporter": "python",
   "pygments_lexer": "ipython3",
   "version": "3.10.13"
  }
 },
 "nbformat": 4,
 "nbformat_minor": 5
}
